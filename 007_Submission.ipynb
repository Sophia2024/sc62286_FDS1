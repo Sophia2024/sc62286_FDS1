{
 "cells": [
  {
   "cell_type": "markdown",
   "id": "e3b378fe",
   "metadata": {},
   "source": [
    "1. Variables and Assignment"
   ]
  },
  {
   "cell_type": "code",
   "execution_count": 20,
   "id": "b8361973",
   "metadata": {},
   "outputs": [
    {
     "name": "stdout",
     "output_type": "stream",
     "text": [
      "Sophia\n"
     ]
    }
   ],
   "source": [
    "name = \"Sophia\"\n",
    "print(name)"
   ]
  },
  {
   "cell_type": "code",
   "execution_count": 21,
   "id": "54c13f5f",
   "metadata": {},
   "outputs": [
    {
     "name": "stdout",
     "output_type": "stream",
     "text": [
      "23\n"
     ]
    }
   ],
   "source": [
    "age = 23\n",
    "print(age)"
   ]
  },
  {
   "cell_type": "code",
   "execution_count": 22,
   "id": "2aa5600e",
   "metadata": {},
   "outputs": [
    {
     "name": "stdout",
     "output_type": "stream",
     "text": [
      "23 Sophia\n"
     ]
    }
   ],
   "source": [
    "name, age = age, name\n",
    "\n",
    "print(name, age)\n"
   ]
  },
  {
   "cell_type": "markdown",
   "id": "2058ee78",
   "metadata": {},
   "source": [
    "2. Data Type"
   ]
  },
  {
   "cell_type": "code",
   "execution_count": 4,
   "id": "a55ad77c",
   "metadata": {},
   "outputs": [
    {
     "data": {
      "text/plain": [
       "int"
      ]
     },
     "execution_count": 4,
     "metadata": {},
     "output_type": "execute_result"
    }
   ],
   "source": [
    "type(5)"
   ]
  },
  {
   "cell_type": "code",
   "execution_count": 5,
   "id": "1d9dbcaa",
   "metadata": {},
   "outputs": [
    {
     "data": {
      "text/plain": [
       "float"
      ]
     },
     "execution_count": 5,
     "metadata": {},
     "output_type": "execute_result"
    }
   ],
   "source": [
    "type(5.0)"
   ]
  },
  {
   "cell_type": "code",
   "execution_count": 6,
   "id": "8ff7ffd0",
   "metadata": {},
   "outputs": [
    {
     "data": {
      "text/plain": [
       "str"
      ]
     },
     "execution_count": 6,
     "metadata": {},
     "output_type": "execute_result"
    }
   ],
   "source": [
    "type(\"5\")"
   ]
  },
  {
   "cell_type": "code",
   "execution_count": 7,
   "id": "cee459ce",
   "metadata": {},
   "outputs": [
    {
     "data": {
      "text/plain": [
       "list"
      ]
     },
     "execution_count": 7,
     "metadata": {},
     "output_type": "execute_result"
    }
   ],
   "source": [
    "type([5])"
   ]
  },
  {
   "cell_type": "code",
   "execution_count": 8,
   "id": "90d86170",
   "metadata": {},
   "outputs": [
    {
     "data": {
      "text/plain": [
       "tuple"
      ]
     },
     "execution_count": 8,
     "metadata": {},
     "output_type": "execute_result"
    }
   ],
   "source": [
    "type((5, ))"
   ]
  },
  {
   "cell_type": "code",
   "execution_count": 9,
   "id": "9be561a1",
   "metadata": {},
   "outputs": [
    {
     "data": {
      "text/plain": [
       "set"
      ]
     },
     "execution_count": 9,
     "metadata": {},
     "output_type": "execute_result"
    }
   ],
   "source": [
    "type({5})"
   ]
  },
  {
   "cell_type": "code",
   "execution_count": 10,
   "id": "81824b1c",
   "metadata": {},
   "outputs": [
    {
     "data": {
      "text/plain": [
       "bool"
      ]
     },
     "execution_count": 10,
     "metadata": {},
     "output_type": "execute_result"
    }
   ],
   "source": [
    "type(True)"
   ]
  },
  {
   "cell_type": "code",
   "execution_count": 11,
   "id": "4962bc1c",
   "metadata": {},
   "outputs": [
    {
     "name": "stdout",
     "output_type": "stream",
     "text": [
      "True\n"
     ]
    }
   ],
   "source": [
    "is_student = True\n",
    "print(is_student)"
   ]
  },
  {
   "cell_type": "markdown",
   "id": "c8e8ee23",
   "metadata": {},
   "source": [
    "3. Basic Operators"
   ]
  },
  {
   "cell_type": "code",
   "execution_count": 12,
   "id": "d9d85fe2",
   "metadata": {},
   "outputs": [
    {
     "name": "stdout",
     "output_type": "stream",
     "text": [
      "38 -16 56 25.0\n"
     ]
    }
   ],
   "source": [
    "v1 = 15 + 23\n",
    "v2 = 34 - 50\n",
    "v3 = 8 * 7\n",
    "v4 = 100 / 4\n",
    "\n",
    "print(v1, v2, v3, v4)"
   ]
  },
  {
   "cell_type": "code",
   "execution_count": 13,
   "id": "5c0b1c69",
   "metadata": {},
   "outputs": [
    {
     "name": "stdout",
     "output_type": "stream",
     "text": [
      "0 100000\n"
     ]
    }
   ],
   "source": [
    "a = 10\n",
    "b = 5\n",
    "\n",
    "remainder, result = a % b, a ** b\n",
    "print(remainder, result)\n"
   ]
  },
  {
   "cell_type": "markdown",
   "id": "68c666b0",
   "metadata": {},
   "source": [
    "4. Type Conversion"
   ]
  },
  {
   "cell_type": "code",
   "execution_count": 14,
   "id": "cd6215e1",
   "metadata": {},
   "outputs": [
    {
     "name": "stdout",
     "output_type": "stream",
     "text": [
      "123\n"
     ]
    }
   ],
   "source": [
    "v1 = int(\"123\")\n",
    "print(v1)"
   ]
  },
  {
   "cell_type": "code",
   "execution_count": 15,
   "id": "15932e68",
   "metadata": {},
   "outputs": [
    {
     "name": "stdout",
     "output_type": "stream",
     "text": [
      "456\n"
     ]
    }
   ],
   "source": [
    "v2 = str(456)\n",
    "print(v2)"
   ]
  },
  {
   "cell_type": "code",
   "execution_count": 16,
   "id": "ec55c2a0",
   "metadata": {},
   "outputs": [
    {
     "name": "stdout",
     "output_type": "stream",
     "text": [
      "78\n"
     ]
    }
   ],
   "source": [
    "v3 = int(78.9)\n",
    "print(v3)"
   ]
  },
  {
   "cell_type": "markdown",
   "id": "5c3a9d0e",
   "metadata": {},
   "source": [
    "5. String Manipulation with Operators"
   ]
  },
  {
   "cell_type": "code",
   "execution_count": 18,
   "id": "9fabef8b",
   "metadata": {},
   "outputs": [
    {
     "name": "stdout",
     "output_type": "stream",
     "text": [
      "PythonRocks Hello Hello Hello \n"
     ]
    }
   ],
   "source": [
    "result_a = \"Python\" + \"Rocks\"\n",
    "result_b = \"Hello \" * 3\n",
    "\n",
    "print(result_a, result_b)\n"
   ]
  },
  {
   "cell_type": "markdown",
   "id": "d4495133",
   "metadata": {},
   "source": [
    "6. Bonus Question"
   ]
  },
  {
   "cell_type": "code",
   "execution_count": 19,
   "id": "b25f326c",
   "metadata": {
    "scrolled": true
   },
   "outputs": [
    {
     "name": "stdout",
     "output_type": "stream",
     "text": [
      "10 15 5\n"
     ]
    }
   ],
   "source": [
    "x = 5\n",
    "y = 10\n",
    "z = 15\n",
    "\n",
    "x = z - x # 15 - 5 = 10\n",
    "y = z # = 15\n",
    "z = y - x\n",
    "\n",
    "print(x, y, z)"
   ]
  },
  {
   "cell_type": "markdown",
   "id": "b89dd3fb",
   "metadata": {},
   "source": [
    "Another way to solve the Bonus Question:\n"
   ]
  },
  {
   "cell_type": "code",
   "execution_count": 24,
   "id": "1583f17c",
   "metadata": {},
   "outputs": [
    {
     "name": "stdout",
     "output_type": "stream",
     "text": [
      "10 15 5\n"
     ]
    }
   ],
   "source": [
    "x = 5\n",
    "y = 10\n",
    "z = 15 \n",
    "\n",
    "x , y , z = y, z, x\n",
    "print(x, y, z)"
   ]
  },
  {
   "cell_type": "code",
   "execution_count": null,
   "id": "82b3444b",
   "metadata": {},
   "outputs": [],
   "source": []
  }
 ],
 "metadata": {
  "kernelspec": {
   "display_name": "Python 3 (ipykernel)",
   "language": "python",
   "name": "python3"
  },
  "language_info": {
   "codemirror_mode": {
    "name": "ipython",
    "version": 3
   },
   "file_extension": ".py",
   "mimetype": "text/x-python",
   "name": "python",
   "nbconvert_exporter": "python",
   "pygments_lexer": "ipython3",
   "version": "3.11.4"
  }
 },
 "nbformat": 4,
 "nbformat_minor": 5
}
