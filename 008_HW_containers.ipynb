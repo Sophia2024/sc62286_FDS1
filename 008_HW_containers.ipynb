{
 "cells": [
  {
   "cell_type": "markdown",
   "id": "ace324d7",
   "metadata": {},
   "source": [
    "008_HW_containers"
   ]
  },
  {
   "cell_type": "markdown",
   "id": "70bc8e54",
   "metadata": {},
   "source": [
    "1. Indexing Strings"
   ]
  },
  {
   "cell_type": "code",
   "execution_count": 3,
   "id": "99f4fff4",
   "metadata": {},
   "outputs": [
    {
     "name": "stdout",
     "output_type": "stream",
     "text": [
      "First character is P \n",
      " Last character is N \n",
      " The string H is H \n",
      " The type of H is <class 'str'>\n"
     ]
    }
   ],
   "source": [
    "s = \"PYTHON\"\n",
    "\n",
    "first_char = s[0]\n",
    "\n",
    "last_char = s[-1]\n",
    "\n",
    "str_H = s[3]\n",
    "\n",
    "type_H = type(s[3])\n",
    "\n",
    "print(\"First character is\", first_char,\"\\n\", \"Last character is\",\n",
    "     last_char, \"\\n\", \"The string H is\", str_H, \"\\n\", \"The type of H is\", type_H)"
   ]
  },
  {
   "cell_type": "markdown",
   "id": "7104a2b5",
   "metadata": {},
   "source": [
    "2. Indexing Tuples"
   ]
  },
  {
   "cell_type": "code",
   "execution_count": 5,
   "id": "3faa3469",
   "metadata": {},
   "outputs": [
    {
     "name": "stdout",
     "output_type": "stream",
     "text": [
      "The First element is 10 \n",
      " The third element is 30\n",
      "[10, 20, 30.4, 40, 50, 60]\n"
     ]
    }
   ],
   "source": [
    "t = (10, 20, 30, 40, 50, 60)\n",
    "\n",
    "first_ele = t[0]\n",
    "\n",
    "third_ele = t[2]\n",
    "\n",
    "print(\"The First element is\", first_ele, \"\\n The third element is\", third_ele)\n",
    "\n",
    "# change the 3rd element to 30.4\n",
    "\n",
    "t = list(t)\n",
    "\n",
    "t[2] = 30.4\n",
    "\n",
    "print(t)"
   ]
  },
  {
   "cell_type": "markdown",
   "id": "294e5ba4",
   "metadata": {},
   "source": [
    "3. Indexing Lists and Lists of Lists"
   ]
  },
  {
   "cell_type": "code",
   "execution_count": 10,
   "id": "544b4a07",
   "metadata": {},
   "outputs": [
    {
     "name": "stdout",
     "output_type": "stream",
     "text": [
      "The First element is 5 \n",
      "The last element is 95 \n",
      "The sublist is [55, 65, 75] \n",
      "The number is 65\n"
     ]
    }
   ],
   "source": [
    "lst = [5, 15, 25, [35, 45, [55, 65, 75], 85], 95]\n",
    "\n",
    "first_ele = lst[0]\n",
    "\n",
    "last_ele = lst[-1]\n",
    "\n",
    "sublist = lst[3][2]\n",
    "\n",
    "number = lst[3][2][1]\n",
    "\n",
    "print(\"The First element is\", first_ele, \"\\nThe last element is\", \n",
    "     last_ele, \"\\nThe sublist is\", sublist, \"\\nThe number is\", number)"
   ]
  },
  {
   "cell_type": "markdown",
   "id": "76e39d69",
   "metadata": {},
   "source": [
    "4. Lists of Lists as Arrays"
   ]
  },
  {
   "cell_type": "code",
   "execution_count": 42,
   "id": "b67731aa",
   "metadata": {},
   "outputs": [],
   "source": [
    "matrix = [\n",
    "    [1, 2, 3],\n",
    "    [4, 5, 6],\n",
    "    [7, 8, 9]\n",
    "]\n",
    "\n"
   ]
  },
  {
   "cell_type": "code",
   "execution_count": 43,
   "id": "a46abd07",
   "metadata": {},
   "outputs": [
    {
     "name": "stdout",
     "output_type": "stream",
     "text": [
      "The second row is [4, 5, 6] \n",
      "The third row is [7, 8, 9] \n",
      "The modified matrix is\n",
      " [1, 2, 3] \n",
      " [4, 0, 6] \n",
      " [7, 8, 9]\n"
     ]
    }
   ],
   "source": [
    "import copy\n",
    "\n",
    "sec_row = copy.copy(matrix[1])\n",
    "\n",
    "third_row = matrix[2]\n",
    "\n",
    "matrix[1][1] = 0\n",
    "\n",
    "print(\"The second row is\", sec_row, \"\\nThe third row is\", third_row, \"\\nThe modified matrix is\\n\", \n",
    "     matrix[0],\"\\n\", matrix[1], \"\\n\", matrix[2])"
   ]
  },
  {
   "cell_type": "markdown",
   "id": "252b1fd2",
   "metadata": {},
   "source": [
    "5. Using Sets"
   ]
  },
  {
   "cell_type": "code",
   "execution_count": 18,
   "id": "0f207d5a",
   "metadata": {},
   "outputs": [
    {
     "name": "stdout",
     "output_type": "stream",
     "text": [
      "Set A is {1, 2, 3, 4, 5} \n",
      "Set B is {4, 5, 6, 7, 8}\n"
     ]
    }
   ],
   "source": [
    "A = [1,2,2,3,4,4,5]\n",
    "B = [4,5,5,6,7,7,8]\n",
    "\n",
    "A_set = set(A)\n",
    "B_set = set(B)\n",
    "\n",
    "print(\"Set A is\", A_set, \"\\nSet B is\", B_set)\n"
   ]
  },
  {
   "cell_type": "code",
   "execution_count": 21,
   "id": "7caf49ba",
   "metadata": {},
   "outputs": [
    {
     "name": "stdout",
     "output_type": "stream",
     "text": [
      "The union of two sets is {1, 2, 3, 4, 5, 6, 7, 8}\n"
     ]
    }
   ],
   "source": [
    "union = A_set | B_set\n",
    "\n",
    "print(\"The union of two sets is\", union)"
   ]
  },
  {
   "cell_type": "code",
   "execution_count": 22,
   "id": "774218b6",
   "metadata": {},
   "outputs": [
    {
     "name": "stdout",
     "output_type": "stream",
     "text": [
      "The intersection of two sets is {4, 5}\n"
     ]
    }
   ],
   "source": [
    "intersection = A_set & B_set\n",
    "\n",
    "print(\"The intersection of two sets is\", intersection)"
   ]
  },
  {
   "cell_type": "code",
   "execution_count": 23,
   "id": "01fb145f",
   "metadata": {},
   "outputs": [
    {
     "name": "stdout",
     "output_type": "stream",
     "text": [
      "Elements in A but not B are {1, 2, 3}\n"
     ]
    }
   ],
   "source": [
    "difference = A_set - B_set\n",
    "\n",
    "print(\"Elements in A but not B are\", difference)"
   ]
  },
  {
   "cell_type": "code",
   "execution_count": 24,
   "id": "bfc5d75e",
   "metadata": {},
   "outputs": [
    {
     "name": "stdout",
     "output_type": "stream",
     "text": [
      "Elements that are in A or B but not both are {1, 2, 3, 6, 7, 8}\n"
     ]
    }
   ],
   "source": [
    "symmetric_difference = A_set ^ B_set\n",
    "print(\"Elements that are in A or B but not both are\", symmetric_difference)"
   ]
  },
  {
   "cell_type": "markdown",
   "id": "e8d85842",
   "metadata": {},
   "source": [
    "6. Working with Dictionaries"
   ]
  },
  {
   "cell_type": "code",
   "execution_count": 25,
   "id": "44a2a3b5",
   "metadata": {},
   "outputs": [],
   "source": [
    "stock = {\n",
    "    \"apple\": 50,\n",
    "    \"banana\": 25,\n",
    "    \"orange\": 30,\n",
    "    \"grape\": 45\n",
    "}"
   ]
  },
  {
   "cell_type": "code",
   "execution_count": 26,
   "id": "1316e2a1",
   "metadata": {},
   "outputs": [
    {
     "data": {
      "text/plain": [
       "50"
      ]
     },
     "execution_count": 26,
     "metadata": {},
     "output_type": "execute_result"
    }
   ],
   "source": [
    "stock['apple']"
   ]
  },
  {
   "cell_type": "code",
   "execution_count": 28,
   "id": "a6a16632",
   "metadata": {},
   "outputs": [
    {
     "data": {
      "text/plain": [
       "{'apple': 50, 'banana': 25, 'orange': 30, 'grape': 45, 'pear': 40}"
      ]
     },
     "execution_count": 28,
     "metadata": {},
     "output_type": "execute_result"
    }
   ],
   "source": [
    "stock[\"pear\"] = 40\n",
    "\n",
    "stock"
   ]
  },
  {
   "cell_type": "code",
   "execution_count": 29,
   "id": "aa4e612c",
   "metadata": {},
   "outputs": [
    {
     "data": {
      "text/plain": [
       "{'apple': 50, 'banana': 30, 'orange': 30, 'grape': 45, 'pear': 40}"
      ]
     },
     "execution_count": 29,
     "metadata": {},
     "output_type": "execute_result"
    }
   ],
   "source": [
    "stock[\"banana\"] = 30\n",
    "\n",
    "stock"
   ]
  },
  {
   "cell_type": "code",
   "execution_count": 30,
   "id": "b3b4ed62",
   "metadata": {},
   "outputs": [
    {
     "data": {
      "text/plain": [
       "{'apple': 50, 'banana': 30, 'grape': 45, 'pear': 40}"
      ]
     },
     "execution_count": 30,
     "metadata": {},
     "output_type": "execute_result"
    }
   ],
   "source": [
    "del stock[\"orange\"]\n",
    "\n",
    "stock"
   ]
  },
  {
   "cell_type": "code",
   "execution_count": null,
   "id": "349efc77",
   "metadata": {},
   "outputs": [],
   "source": []
  }
 ],
 "metadata": {
  "kernelspec": {
   "display_name": "Python 3 (ipykernel)",
   "language": "python",
   "name": "python3"
  },
  "language_info": {
   "codemirror_mode": {
    "name": "ipython",
    "version": 3
   },
   "file_extension": ".py",
   "mimetype": "text/x-python",
   "name": "python",
   "nbconvert_exporter": "python",
   "pygments_lexer": "ipython3",
   "version": "3.11.4"
  }
 },
 "nbformat": 4,
 "nbformat_minor": 5
}
