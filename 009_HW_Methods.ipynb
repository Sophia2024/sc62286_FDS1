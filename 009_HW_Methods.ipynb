{
 "cells": [
  {
   "cell_type": "markdown",
   "id": "e38828f2",
   "metadata": {},
   "source": [
    "PartA"
   ]
  },
  {
   "cell_type": "markdown",
   "id": "d8cc30d7",
   "metadata": {},
   "source": [
    "1. Strings"
   ]
  },
  {
   "cell_type": "code",
   "execution_count": 2,
   "id": "b5fc886a",
   "metadata": {},
   "outputs": [
    {
     "name": "stdout",
     "output_type": "stream",
     "text": [
      "Program\n"
     ]
    }
   ],
   "source": [
    "# substring of \"Program\"\n",
    "\n",
    "s = \"ProgrammingIsFun\"\n",
    "\n",
    "substring = s[ :7]\n",
    "print(substring)"
   ]
  },
  {
   "cell_type": "code",
   "execution_count": 6,
   "id": "aa8d1dd7",
   "metadata": {},
   "outputs": [
    {
     "name": "stdout",
     "output_type": "stream",
     "text": [
      "Fun\n"
     ]
    }
   ],
   "source": [
    "# substring of \"Fun\"\n",
    "\n",
    "substring = s[-3:]\n",
    "print(substring)"
   ]
  },
  {
   "cell_type": "code",
   "execution_count": 51,
   "id": "3da756f5",
   "metadata": {},
   "outputs": [
    {
     "name": "stdout",
     "output_type": "stream",
     "text": [
      "Pgmnsn\n"
     ]
    }
   ],
   "source": [
    "# every 3rd char of string \n",
    "\n",
    "substring = s[ : :3]\n",
    "print(substring)"
   ]
  },
  {
   "cell_type": "markdown",
   "id": "873c8e03",
   "metadata": {},
   "source": [
    "2. Lists"
   ]
  },
  {
   "cell_type": "code",
   "execution_count": 22,
   "id": "c32b08fb",
   "metadata": {},
   "outputs": [
    {
     "name": "stdout",
     "output_type": "stream",
     "text": [
      "[10, 20, 30]\n"
     ]
    }
   ],
   "source": [
    "# print first 3 elements\n",
    "\n",
    "lst = [10, 20, 30, 40, 50, 60, 70, 80]\n",
    "\n",
    "sub = lst[: 3]\n",
    "\n",
    "print(sub)\n"
   ]
  },
  {
   "cell_type": "code",
   "execution_count": 9,
   "id": "acac8e6a",
   "metadata": {},
   "outputs": [
    {
     "name": "stdout",
     "output_type": "stream",
     "text": [
      "[70, 80]\n"
     ]
    }
   ],
   "source": [
    "# last 2 elements\n",
    "\n",
    "sub = lst[-2 :]\n",
    "print(sub)"
   ]
  },
  {
   "cell_type": "code",
   "execution_count": 11,
   "id": "44a1fe96",
   "metadata": {},
   "outputs": [
    {
     "name": "stdout",
     "output_type": "stream",
     "text": [
      "[40, 50, 60, 70]\n"
     ]
    }
   ],
   "source": [
    "# elements from index 3 to 6\n",
    "\n",
    "sub = lst[3: 7]\n",
    "print(sub)"
   ]
  },
  {
   "cell_type": "code",
   "execution_count": 14,
   "id": "e4135be6",
   "metadata": {},
   "outputs": [
    {
     "name": "stdout",
     "output_type": "stream",
     "text": [
      "[10, 30, 50, 70]\n"
     ]
    }
   ],
   "source": [
    "# every 2nd element \n",
    "\n",
    "sub = lst[: : 2]\n",
    "print(sub)"
   ]
  },
  {
   "cell_type": "code",
   "execution_count": 23,
   "id": "e486142f",
   "metadata": {},
   "outputs": [
    {
     "name": "stdout",
     "output_type": "stream",
     "text": [
      "[80, 60, 40, 20]\n"
     ]
    }
   ],
   "source": [
    "# every 2nd element from the end of the list\n",
    "\n",
    "lst_copy = lst.copy()\n",
    "\n",
    "lst_copy.reverse()\n",
    "\n",
    "sub = lst_copy[: : 2]\n",
    "\n",
    "print(sub)\n"
   ]
  },
  {
   "cell_type": "markdown",
   "id": "fffbefed",
   "metadata": {},
   "source": [
    "3. Tuples"
   ]
  },
  {
   "cell_type": "code",
   "execution_count": 24,
   "id": "c68ad166",
   "metadata": {},
   "outputs": [],
   "source": [
    "tup = (5, 10, 15, 20, 25, 30, 35, 40)"
   ]
  },
  {
   "cell_type": "code",
   "execution_count": 25,
   "id": "eb8c1e27",
   "metadata": {},
   "outputs": [
    {
     "name": "stdout",
     "output_type": "stream",
     "text": [
      "10\n"
     ]
    }
   ],
   "source": [
    "# second element\n",
    "\n",
    "e = tup[1]\n",
    "print(e)"
   ]
  },
  {
   "cell_type": "code",
   "execution_count": 26,
   "id": "2f129bf4",
   "metadata": {},
   "outputs": [
    {
     "name": "stdout",
     "output_type": "stream",
     "text": [
      "(30, 35, 40)\n"
     ]
    }
   ],
   "source": [
    "# last 3 elements\n",
    "\n",
    "e = tup[-3: ]\n",
    "print(e)"
   ]
  },
  {
   "cell_type": "code",
   "execution_count": 27,
   "id": "38c70ead",
   "metadata": {},
   "outputs": [
    {
     "name": "stdout",
     "output_type": "stream",
     "text": [
      "(15, 20, 25, 30)\n"
     ]
    }
   ],
   "source": [
    "# elements from index 2 to 5\n",
    "\n",
    "e = tup[2: 6]\n",
    "print(e)"
   ]
  },
  {
   "cell_type": "markdown",
   "id": "388ed85d",
   "metadata": {},
   "source": [
    "PartB"
   ]
  },
  {
   "cell_type": "markdown",
   "id": "814b1cab",
   "metadata": {},
   "source": [
    "1. Strings"
   ]
  },
  {
   "cell_type": "code",
   "execution_count": 29,
   "id": "d99edd73",
   "metadata": {},
   "outputs": [
    {
     "ename": "ValueError",
     "evalue": "substring not found",
     "output_type": "error",
     "traceback": [
      "\u001b[0;31m---------------------------------------------------------------------------\u001b[0m",
      "\u001b[0;31mValueError\u001b[0m                                Traceback (most recent call last)",
      "Cell \u001b[0;32mIn[29], line 5\u001b[0m\n\u001b[1;32m      1\u001b[0m \u001b[38;5;66;03m# frist occurrence of substring \"ring\" in s\u001b[39;00m\n\u001b[1;32m      2\u001b[0m \n\u001b[1;32m      3\u001b[0m \u001b[38;5;66;03m# s = ProgrammingIsFun\u001b[39;00m\n\u001b[0;32m----> 5\u001b[0m a \u001b[38;5;241m=\u001b[39m s\u001b[38;5;241m.\u001b[39mindex(\u001b[38;5;124m\"\u001b[39m\u001b[38;5;124mring\u001b[39m\u001b[38;5;124m\"\u001b[39m)\n",
      "\u001b[0;31mValueError\u001b[0m: substring not found"
     ]
    }
   ],
   "source": [
    "# frist occurrence of substring \"ring\" in s\n",
    "\n",
    "# s = ProgrammingIsFun\n",
    "\n",
    "a = s.index(\"ring\")"
   ]
  },
  {
   "cell_type": "code",
   "execution_count": 30,
   "id": "f1e1b5b8",
   "metadata": {},
   "outputs": [
    {
     "name": "stdout",
     "output_type": "stream",
     "text": [
      "programmingisfun\n"
     ]
    }
   ],
   "source": [
    "# convert string s to lowercase and print\n",
    "\n",
    "a = s.lower()\n",
    "print(a)"
   ]
  },
  {
   "cell_type": "code",
   "execution_count": 31,
   "id": "96761cda",
   "metadata": {},
   "outputs": [
    {
     "name": "stdout",
     "output_type": "stream",
     "text": [
      "ProgrammingIsAmazing\n"
     ]
    }
   ],
   "source": [
    "# replace substring \"Fun\" with \"Amazing\" and print\n",
    "\n",
    "a = s.replace(\"Fun\", \"Amazing\")\n",
    "print(a)"
   ]
  },
  {
   "cell_type": "markdown",
   "id": "e6d66319",
   "metadata": {},
   "source": [
    "2. Lists"
   ]
  },
  {
   "cell_type": "code",
   "execution_count": 32,
   "id": "a7ea71ea",
   "metadata": {},
   "outputs": [
    {
     "data": {
      "text/plain": [
       "[10, 20, 30, 40, 50, 60, 70, 80]"
      ]
     },
     "execution_count": 32,
     "metadata": {},
     "output_type": "execute_result"
    }
   ],
   "source": [
    "lst"
   ]
  },
  {
   "cell_type": "code",
   "execution_count": 35,
   "id": "0ea40069",
   "metadata": {},
   "outputs": [
    {
     "name": "stdout",
     "output_type": "stream",
     "text": [
      "[10, 20, 30, 40, 50, 60, 70, 80, 90, 100]\n"
     ]
    }
   ],
   "source": [
    "# add elements 90, 100 to the end and print\n",
    "\n",
    "lst.extend([90,100])\n",
    "print(lst)"
   ]
  },
  {
   "cell_type": "code",
   "execution_count": 36,
   "id": "e0c26d28",
   "metadata": {},
   "outputs": [
    {
     "name": "stdout",
     "output_type": "stream",
     "text": [
      "[10, 30, 40, 50, 60, 70, 80, 90, 100]\n"
     ]
    }
   ],
   "source": [
    "# remove 2nd ele from lst and print\n",
    "\n",
    "lst.pop(1)\n",
    "print(lst)"
   ]
  },
  {
   "cell_type": "code",
   "execution_count": 37,
   "id": "b01d32a6",
   "metadata": {},
   "outputs": [
    {
     "name": "stdout",
     "output_type": "stream",
     "text": [
      "[100, 90, 80, 70, 60, 50, 40, 30, 10]\n"
     ]
    }
   ],
   "source": [
    "# reverse the order and print\n",
    "\n",
    "lst.reverse()\n",
    "print(lst)"
   ]
  },
  {
   "cell_type": "code",
   "execution_count": 38,
   "id": "45e37ef4",
   "metadata": {},
   "outputs": [
    {
     "name": "stdout",
     "output_type": "stream",
     "text": [
      "5\n"
     ]
    }
   ],
   "source": [
    "# find and print the index of element 50 in lst\n",
    "\n",
    "index = lst.index(50)\n",
    "\n",
    "print(index)\n"
   ]
  },
  {
   "cell_type": "markdown",
   "id": "70519f54",
   "metadata": {},
   "source": [
    "3. Tuples"
   ]
  },
  {
   "cell_type": "code",
   "execution_count": 39,
   "id": "706db22b",
   "metadata": {},
   "outputs": [
    {
     "data": {
      "text/plain": [
       "(5, 10, 15, 20, 25, 30, 35, 40)"
      ]
     },
     "execution_count": 39,
     "metadata": {},
     "output_type": "execute_result"
    }
   ],
   "source": [
    "tup "
   ]
  },
  {
   "cell_type": "code",
   "execution_count": 40,
   "id": "f6ae5aa9",
   "metadata": {},
   "outputs": [
    {
     "name": "stdout",
     "output_type": "stream",
     "text": [
      "1\n"
     ]
    }
   ],
   "source": [
    "# count and print the number of occurrences of 20 in tup\n",
    "\n",
    "num = tup.count(20)\n",
    "print(num)"
   ]
  },
  {
   "cell_type": "code",
   "execution_count": 41,
   "id": "4d1c9a55",
   "metadata": {},
   "outputs": [
    {
     "name": "stdout",
     "output_type": "stream",
     "text": [
      "(5, 10, 15, 20, 25, 30, 35, 40, 45)\n"
     ]
    }
   ],
   "source": [
    "# convert tup into a list, add 45 at the end, \n",
    "# convert back to tuple and print\n",
    "\n",
    "convert_to_lst = list(tup)\n",
    "\n",
    "convert_to_lst.append(45)\n",
    "\n",
    "convert_to_tuple = tuple(convert_to_lst)\n",
    "\n",
    "print(convert_to_tuple)\n"
   ]
  },
  {
   "cell_type": "markdown",
   "id": "1b615f1a",
   "metadata": {},
   "source": [
    "4. Dictionaries"
   ]
  },
  {
   "cell_type": "code",
   "execution_count": 42,
   "id": "a9e2b146",
   "metadata": {},
   "outputs": [],
   "source": [
    "# Given dictionary\n",
    "\n",
    "S_Doo_ = {\"Scooby\": 4, \"Shaggy\": 19, \"Velma\": 18, \"Daphne\": 20}"
   ]
  },
  {
   "cell_type": "code",
   "execution_count": 45,
   "id": "030deb27",
   "metadata": {},
   "outputs": [
    {
     "name": "stdout",
     "output_type": "stream",
     "text": [
      "{'Scooby': 4, 'Shaggy': 19, 'Velma': 18, 'Daphne': 20, 'Phred': 21}\n"
     ]
    }
   ],
   "source": [
    "# add a new key-value pair\n",
    "\n",
    "S_Doo_[\"Phred\"] = 21\n",
    "\n",
    "print(S_Doo_)"
   ]
  },
  {
   "cell_type": "code",
   "execution_count": 46,
   "id": "bf877bd4",
   "metadata": {},
   "outputs": [
    {
     "name": "stdout",
     "output_type": "stream",
     "text": [
      "18\n"
     ]
    }
   ],
   "source": [
    "# retrieve and print the age of Velma\n",
    "\n",
    "age = S_Doo_[\"Velma\"]\n",
    "print(age)"
   ]
  },
  {
   "cell_type": "code",
   "execution_count": 47,
   "id": "1e0bb678",
   "metadata": {},
   "outputs": [
    {
     "name": "stdout",
     "output_type": "stream",
     "text": [
      "{'Shaggy': 19, 'Velma': 18, 'Daphne': 20, 'Phred': 21}\n"
     ]
    }
   ],
   "source": [
    "# remove Scooby and his age from the dic and print\n",
    "\n",
    "del S_Doo_[\"Scooby\"]\n",
    "print(S_Doo_)"
   ]
  },
  {
   "cell_type": "code",
   "execution_count": 49,
   "id": "28e0a515",
   "metadata": {},
   "outputs": [
    {
     "name": "stdout",
     "output_type": "stream",
     "text": [
      "dict_keys(['Shaggy', 'Velma', 'Daphne', 'Phred'])\n"
     ]
    }
   ],
   "source": [
    "# print all the keys in dic\n",
    "\n",
    "print(S_Doo_.keys())"
   ]
  },
  {
   "cell_type": "code",
   "execution_count": 50,
   "id": "689537b1",
   "metadata": {},
   "outputs": [
    {
     "name": "stdout",
     "output_type": "stream",
     "text": [
      "dict_values([19, 18, 20, 21])\n"
     ]
    }
   ],
   "source": [
    "# print all the values in dic\n",
    "\n",
    "print(S_Doo_.values())"
   ]
  },
  {
   "cell_type": "code",
   "execution_count": null,
   "id": "e55e8f75",
   "metadata": {},
   "outputs": [],
   "source": []
  }
 ],
 "metadata": {
  "kernelspec": {
   "display_name": "Python 3 (ipykernel)",
   "language": "python",
   "name": "python3"
  },
  "language_info": {
   "codemirror_mode": {
    "name": "ipython",
    "version": 3
   },
   "file_extension": ".py",
   "mimetype": "text/x-python",
   "name": "python",
   "nbconvert_exporter": "python",
   "pygments_lexer": "ipython3",
   "version": "3.11.4"
  }
 },
 "nbformat": 4,
 "nbformat_minor": 5
}
