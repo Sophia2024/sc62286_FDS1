{
 "cells": [
  {
   "cell_type": "markdown",
   "id": "9ecc581b",
   "metadata": {},
   "source": [
    "File name: 010_HW_For_Iterables_ListComp.md\n",
    "\n",
    "Python Looping Homework Assignment"
   ]
  },
  {
   "cell_type": "markdown",
   "id": "d4b37908",
   "metadata": {},
   "source": [
    "Part1: for loops with lists and range()"
   ]
  },
  {
   "cell_type": "markdown",
   "id": "65c2b775",
   "metadata": {},
   "source": [
    "1. Lists"
   ]
  },
  {
   "cell_type": "code",
   "execution_count": 2,
   "id": "53de33c5",
   "metadata": {},
   "outputs": [
    {
     "name": "stdout",
     "output_type": "stream",
     "text": [
      "2\n",
      "4\n",
      "6\n",
      "8\n",
      "10\n"
     ]
    }
   ],
   "source": [
    "lst = [1,2,3,4,5]\n",
    "\n",
    "for num in lst :\n",
    "    multiplied = num * 2 \n",
    "    print(multiplied)\n",
    "    "
   ]
  },
  {
   "cell_type": "code",
   "execution_count": 6,
   "id": "259634c3",
   "metadata": {},
   "outputs": [
    {
     "name": "stdout",
     "output_type": "stream",
     "text": [
      "grape\n",
      "kiwi\n",
      "pear\n",
      "apple\n"
     ]
    }
   ],
   "source": [
    "lst = [\"apple\", \"pear\", \"kiwi\", \"grape\"]\n",
    "# lst.reverse() this reverse the lst itself\n",
    "\n",
    "for i in range(len(lst)) :\n",
    "    index = len(lst) - 1 - i\n",
    "    print(lst[index])\n"
   ]
  },
  {
   "cell_type": "markdown",
   "id": "22eeaf23",
   "metadata": {},
   "source": [
    "2. Using the range() function"
   ]
  },
  {
   "cell_type": "code",
   "execution_count": 7,
   "id": "12acaea5",
   "metadata": {},
   "outputs": [
    {
     "name": "stdout",
     "output_type": "stream",
     "text": [
      "0\n",
      "1\n",
      "2\n",
      "3\n",
      "4\n",
      "5\n",
      "6\n",
      "7\n",
      "8\n",
      "9\n"
     ]
    }
   ],
   "source": [
    "for i in range(10) :\n",
    "    print(i)"
   ]
  },
  {
   "cell_type": "code",
   "execution_count": 8,
   "id": "70fb29f1",
   "metadata": {},
   "outputs": [
    {
     "name": "stdout",
     "output_type": "stream",
     "text": [
      "5\n",
      "6\n",
      "7\n",
      "8\n",
      "9\n",
      "10\n",
      "11\n",
      "12\n",
      "13\n",
      "14\n",
      "15\n"
     ]
    }
   ],
   "source": [
    "for i in range(5, 16) :\n",
    "    print(i)"
   ]
  },
  {
   "cell_type": "code",
   "execution_count": 9,
   "id": "8c6d936b",
   "metadata": {},
   "outputs": [
    {
     "name": "stdout",
     "output_type": "stream",
     "text": [
      "0\n",
      "2\n",
      "4\n",
      "6\n",
      "8\n",
      "10\n",
      "12\n",
      "14\n",
      "16\n",
      "18\n"
     ]
    }
   ],
   "source": [
    "for i in range(10) :\n",
    "    even = 0 + 2 * i \n",
    "    print(even)"
   ]
  },
  {
   "cell_type": "markdown",
   "id": "7f238411",
   "metadata": {},
   "source": [
    "Part2: Dictionaries and Loops"
   ]
  },
  {
   "cell_type": "code",
   "execution_count": 15,
   "id": "312f46a8",
   "metadata": {},
   "outputs": [
    {
     "name": "stdout",
     "output_type": "stream",
     "text": [
      "Alex's favorite color is Blue\n",
      "Jordan's favorite color is Green\n",
      "Taylor's favorite color is Red\n"
     ]
    }
   ],
   "source": [
    "dic = {\"Alex\": \"Blue\", \"Jordan\" : \"Green\", \"Taylor\": \"Red\"}\n",
    "\n",
    "for name in dic :\n",
    "    print(name,\"\\'s favorite color is \", dic[name], sep = \"\")\n",
    "\n"
   ]
  },
  {
   "cell_type": "code",
   "execution_count": 17,
   "id": "d3382121",
   "metadata": {},
   "outputs": [
    {
     "name": "stdout",
     "output_type": "stream",
     "text": [
      "apple now has 10\n",
      "banana now has 6\n",
      "cherries now has 20\n"
     ]
    }
   ],
   "source": [
    "dic = {\"apple\": 5, \"banana\": 3, \"cherries\": 10}\n",
    "\n",
    "for friut in dic :\n",
    "    print(friut, \"now has\", dic[friut] * 2)"
   ]
  },
  {
   "cell_type": "markdown",
   "id": "89eac7a5",
   "metadata": {},
   "source": [
    "Part3: Storing Results of a For Loop in a New List and List Comprehensions"
   ]
  },
  {
   "cell_type": "markdown",
   "id": "3215ac73",
   "metadata": {},
   "source": [
    "1. Not Using List Comprehension"
   ]
  },
  {
   "cell_type": "code",
   "execution_count": 24,
   "id": "17ac1ef9",
   "metadata": {},
   "outputs": [
    {
     "name": "stdout",
     "output_type": "stream",
     "text": [
      "[2, 6, 10, 14]\n"
     ]
    }
   ],
   "source": [
    "lst = [1,3,5,7]\n",
    "\n",
    "new_lst = []\n",
    "\n",
    "for num in lst :\n",
    "    multiplied = num * 2\n",
    "    new_lst.append(multiplied)\n",
    "print(new_lst)"
   ]
  },
  {
   "cell_type": "code",
   "execution_count": 25,
   "id": "e5768340",
   "metadata": {},
   "outputs": [
    {
     "name": "stdout",
     "output_type": "stream",
     "text": [
      "['A', 'B', 'C', 'D']\n"
     ]
    }
   ],
   "source": [
    "lst = [\"Apple\", \"Banana\", \"Cherry\", \"Date\"]\n",
    "new_lst = []\n",
    "\n",
    "for word in lst :\n",
    "    firstlet = word[0]\n",
    "    new_lst.append(firstlet)\n",
    "print(new_lst)"
   ]
  },
  {
   "cell_type": "markdown",
   "id": "8ddaf024",
   "metadata": {},
   "source": [
    "2. using List Comprehension"
   ]
  },
  {
   "cell_type": "code",
   "execution_count": 47,
   "id": "e94d2bbc",
   "metadata": {},
   "outputs": [
    {
     "name": "stdout",
     "output_type": "stream",
     "text": [
      "[[1.0], [1.4142135623730951], [1.7320508075688772], [2.0], [2.23606797749979], [2.449489742783178], [2.6457513110645907], [2.8284271247461903], [3.0], [3.1622776601683795]]\n"
     ]
    }
   ],
   "source": [
    "lst = [1, 2, 3, 4, 5, 6, 7, 8, 9, 10]\n",
    "new_lst = []\n",
    "# new_lst.append([num ** 0.5 for num in lst])\n",
    "\n",
    "new_lst.extend([[num ** 0.5] for num in lst])\n",
    "print(new_lst)"
   ]
  },
  {
   "cell_type": "code",
   "execution_count": 38,
   "id": "0cddd8e7",
   "metadata": {},
   "outputs": [
    {
     "name": "stdout",
     "output_type": "stream",
     "text": [
      "[['e', 'r', 'i', 'e']]\n"
     ]
    }
   ],
   "source": [
    "lst = [\"apple\", \"pear\", \"kiwi\", \"grape\"]\n",
    "new_lst = []\n",
    "\n",
    "new_lst.append([word[-1] for word in lst])\n",
    "print(new_lst)\n",
    "    "
   ]
  },
  {
   "cell_type": "markdown",
   "id": "f18e5188",
   "metadata": {},
   "source": [
    "Part4: nested loops"
   ]
  },
  {
   "cell_type": "code",
   "execution_count": 42,
   "id": "d3af8e8c",
   "metadata": {},
   "outputs": [],
   "source": [
    "deep_list = [[[1, 2, 3, 4], [5, 6, 7, 8]],\n",
    "            [[9, 10, 11, 12], [13, 14, 15, 16]],\n",
    "            [[17, 18, 19, 20], [21, 22, 23, 42]]]"
   ]
  },
  {
   "cell_type": "code",
   "execution_count": null,
   "id": "88e3eadf",
   "metadata": {},
   "outputs": [],
   "source": [
    "# problem A"
   ]
  },
  {
   "cell_type": "code",
   "execution_count": 43,
   "id": "02073071",
   "metadata": {},
   "outputs": [
    {
     "name": "stdout",
     "output_type": "stream",
     "text": [
      "[1, 2, 3, 4, 5, 6, 7, 8, 9, 10, 11, 12, 13, 14, 15, 16, 17, 18, 19, 20, 21, 22, 23, 42]\n"
     ]
    }
   ],
   "source": [
    "# My way of flattening \n",
    "\n",
    "new_lst = []\n",
    "\n",
    "for lst in deep_list :\n",
    "    for sublist in lst :\n",
    "        new_lst.extend(sublist)\n",
    "print(new_lst)"
   ]
  },
  {
   "cell_type": "code",
   "execution_count": 45,
   "id": "03e7d131",
   "metadata": {},
   "outputs": [
    {
     "name": "stdout",
     "output_type": "stream",
     "text": [
      "[1, 2, 3, 4, 5, 6, 7, 8, 9, 10, 11, 12, 13, 14, 15, 16, 17, 18, 19, 20, 21, 22, 23, 42]\n"
     ]
    }
   ],
   "source": [
    "# The instructed way\n",
    "\n",
    "new_lst = []\n",
    "\n",
    "for i in range(3) :\n",
    "    for j in range(2) :\n",
    "        for k in range(4) :\n",
    "            new_lst.append(deep_list[i][j][k])\n",
    "            \n",
    "print(new_lst)\n",
    "    "
   ]
  },
  {
   "cell_type": "code",
   "execution_count": null,
   "id": "c3b98f32",
   "metadata": {},
   "outputs": [],
   "source": [
    "# Problem B"
   ]
  },
  {
   "cell_type": "code",
   "execution_count": 1,
   "id": "9207af16",
   "metadata": {},
   "outputs": [],
   "source": [
    "myStrLst = [\"able\", \"was\", \"I\", \"ere\", \"I\", \"saw\", \"elba\"]"
   ]
  },
  {
   "cell_type": "code",
   "execution_count": 2,
   "id": "13fd501b",
   "metadata": {},
   "outputs": [
    {
     "name": "stdout",
     "output_type": "stream",
     "text": [
      "['able', 'was', 'I', 'ere', 'I', 'saw', 'elba']\n"
     ]
    }
   ],
   "source": [
    "\n",
    "myStrLst = [\"able\", \"was\", \"I\", \"ere\", \"I\", \"saw\", \"elba\"]\n",
    "\n",
    "lst_copy = myStrLst.copy()\n",
    "# print(lst_copy) # check to see \n",
    "lst_copy.reverse() # reverse the order of words\n",
    "\n",
    "lst = []\n",
    "for word in lst_copy :\n",
    "    reversed_word = word[ : : -1]\n",
    "    lst.append(reversed_word)\n",
    "print(lst)\n"
   ]
  },
  {
   "cell_type": "code",
   "execution_count": null,
   "id": "5947be8e",
   "metadata": {},
   "outputs": [],
   "source": []
  }
 ],
 "metadata": {
  "kernelspec": {
   "display_name": "Python 3 (ipykernel)",
   "language": "python",
   "name": "python3"
  },
  "language_info": {
   "codemirror_mode": {
    "name": "ipython",
    "version": 3
   },
   "file_extension": ".py",
   "mimetype": "text/x-python",
   "name": "python",
   "nbconvert_exporter": "python",
   "pygments_lexer": "ipython3",
   "version": "3.11.4"
  }
 },
 "nbformat": 4,
 "nbformat_minor": 5
}
