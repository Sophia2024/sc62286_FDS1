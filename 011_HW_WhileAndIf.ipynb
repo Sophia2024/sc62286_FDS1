{
 "cells": [
  {
   "cell_type": "markdown",
   "id": "3afeed9c",
   "metadata": {},
   "source": [
    "File Name: 011_HW_WhileAndIf"
   ]
  },
  {
   "cell_type": "markdown",
   "id": "ea65898d",
   "metadata": {},
   "source": [
    "0. Logic"
   ]
  },
  {
   "cell_type": "markdown",
   "id": "82eaf38b",
   "metadata": {},
   "source": [
    "a)"
   ]
  },
  {
   "cell_type": "code",
   "execution_count": 2,
   "id": "12dc28e2",
   "metadata": {},
   "outputs": [
    {
     "data": {
      "text/plain": [
       "True"
      ]
     },
     "execution_count": 2,
     "metadata": {},
     "output_type": "execute_result"
    }
   ],
   "source": [
    "test_strs = [\"y\", \"o\"]\n",
    "comp_str = \"Hello World!\"\n",
    "\n",
    "test_strs[0] in comp_str or test_strs[1] in comp_str"
   ]
  },
  {
   "cell_type": "markdown",
   "id": "508ec8a4",
   "metadata": {},
   "source": [
    "b)"
   ]
  },
  {
   "cell_type": "code",
   "execution_count": 3,
   "id": "6b6f073c",
   "metadata": {},
   "outputs": [
    {
     "data": {
      "text/plain": [
       "True"
      ]
     },
     "execution_count": 3,
     "metadata": {},
     "output_type": "execute_result"
    }
   ],
   "source": [
    "a, b = True, False \n",
    "\n",
    "not(a == True and b == True) and (a == True or b == True)"
   ]
  },
  {
   "cell_type": "code",
   "execution_count": 4,
   "id": "2346653a",
   "metadata": {},
   "outputs": [
    {
     "data": {
      "text/plain": [
       "False"
      ]
     },
     "execution_count": 4,
     "metadata": {},
     "output_type": "execute_result"
    }
   ],
   "source": [
    "a,b = True, True\n",
    "not(a == True and b == True) and (a == True or b == True)"
   ]
  },
  {
   "cell_type": "code",
   "execution_count": 5,
   "id": "51673380",
   "metadata": {},
   "outputs": [
    {
     "data": {
      "text/plain": [
       "False"
      ]
     },
     "execution_count": 5,
     "metadata": {},
     "output_type": "execute_result"
    }
   ],
   "source": [
    "a, b = False, False\n",
    "not(a == True and b == True) and (a == True or b == True)"
   ]
  },
  {
   "cell_type": "code",
   "execution_count": 6,
   "id": "ed8d354f",
   "metadata": {},
   "outputs": [
    {
     "data": {
      "text/plain": [
       "True"
      ]
     },
     "execution_count": 6,
     "metadata": {},
     "output_type": "execute_result"
    }
   ],
   "source": [
    "a, b = False, True\n",
    "not(a == True and b == True) and (a == True or b == True)"
   ]
  },
  {
   "cell_type": "markdown",
   "id": "67fa7c09",
   "metadata": {},
   "source": [
    "1. Age Category"
   ]
  },
  {
   "cell_type": "code",
   "execution_count": 8,
   "id": "a323493e",
   "metadata": {},
   "outputs": [
    {
     "name": "stdout",
     "output_type": "stream",
     "text": [
      "What is your age?\n",
      "3\n",
      "Child\n"
     ]
    }
   ],
   "source": [
    "age = int(input(\"What is your age?\\n\"))\n",
    "\n",
    "if age >= 0 and age <= 2 :\n",
    "    print(\"Infant\")\n",
    "elif age >= 3 and age <= 12 :\n",
    "    print(\"Child\")\n",
    "elif age >= 13 and age <= 19 :\n",
    "    print(\"Teenager\")\n",
    "elif age >= 20 and age <= 64 :\n",
    "    print(\"Adult\")\n",
    "else :\n",
    "    print(\"Senior\")"
   ]
  },
  {
   "cell_type": "markdown",
   "id": "8d50ebc7",
   "metadata": {},
   "source": [
    "2. Number Classifier"
   ]
  },
  {
   "cell_type": "code",
   "execution_count": 9,
   "id": "40ccf1bb",
   "metadata": {},
   "outputs": [
    {
     "name": "stdout",
     "output_type": "stream",
     "text": [
      "Please give me a number \n",
      "5\n",
      "Your number, 5 ,is positive and odd\n"
     ]
    }
   ],
   "source": [
    "num = int(input(\"Please give me a number \\n\"))\n",
    "\n",
    "if num > 0 :\n",
    "    a = \"positive\"\n",
    "elif num < 0 :\n",
    "    a = \"negative\"\n",
    "else :\n",
    "    a = \"zero\"\n",
    "    \n",
    "if num % 2 == 0 :\n",
    "    b = \"even\"\n",
    "else :\n",
    "    b = \"odd\"\n",
    "    \n",
    "print(\"Your number,\", num, \",is\", a, \"and\", b)"
   ]
  },
  {
   "cell_type": "markdown",
   "id": "0b039a95",
   "metadata": {},
   "source": [
    "3. Simple Calculator"
   ]
  },
  {
   "cell_type": "code",
   "execution_count": 18,
   "id": "094130b2",
   "metadata": {},
   "outputs": [
    {
     "name": "stdout",
     "output_type": "stream",
     "text": [
      "Please give me a number\n",
      "1\n",
      "Please give me another number\n",
      "2\n",
      "Please select an operator from + - * / \n",
      "+\n",
      "3\n"
     ]
    }
   ],
   "source": [
    "num1 = int(input(\"Please give me a number\\n\"))\n",
    "num2 = int(input(\"Please give me another number\\n\"))\n",
    "\n",
    "op = input(\"Please select an operator from + - * / \\n\")\n",
    "\n",
    "if op == \"+\" :\n",
    "    result = num1 + num2\n",
    "elif op == \"-\" :\n",
    "    result = num1 - num2 \n",
    "elif op == \"*\" :\n",
    "    result = num1 * num2 \n",
    "elif op == \"/\" :\n",
    "    result = num1 / num2\n",
    "else :\n",
    "    print(\"Error Message: This is not an appropriate operator\\n\")\n",
    "    # op = input(\"Please enter an appropriate operator\\n\")\n",
    "\n",
    "print(result)"
   ]
  },
  {
   "cell_type": "markdown",
   "id": "9ccd1c76",
   "metadata": {},
   "source": [
    "4. Guessing Game"
   ]
  },
  {
   "cell_type": "code",
   "execution_count": 21,
   "id": "164acb78",
   "metadata": {},
   "outputs": [
    {
     "name": "stdout",
     "output_type": "stream",
     "text": [
      "Please guess the random number generated between 1 and 10 \n",
      "1\n",
      "Too Low\n",
      "Please guess the random number generated between 1 and 10 \n",
      "2\n",
      "Too Low\n",
      "Please guess the random number generated between 1 and 10 \n",
      "3\n",
      "Too Low\n",
      "Please guess the random number generated between 1 and 10 \n",
      "4\n",
      "Too Low\n",
      "Please guess the random number generated between 1 and 10 \n",
      "5\n",
      "Too Low\n",
      "Please guess the random number generated between 1 and 10 \n",
      "6\n",
      "Reaching maximum incorrect attempts! The correct number is 7\n"
     ]
    }
   ],
   "source": [
    "import random\n",
    "\n",
    "answer = random.randint(1, 10)\n",
    "\n",
    "guess = int(input(\"Please guess the random number generated between 1 and 10 \\n\"))\n",
    "\n",
    "max_attempts = 5\n",
    "\n",
    "for i in range(5) :\n",
    "    if guess < answer :\n",
    "        print(\"Too Low\")\n",
    "        guess = int(input(\"Please guess the random number generated between 1 and 10 \\n\"))\n",
    "    elif guess > answer :\n",
    "        print(\"Too High\")\n",
    "        guess = int(input(\"Please guess the random number generated between 1 and 10 \\n\"))\n",
    "    else :\n",
    "        print(\"Guessing Correctly! The number is\", answer)\n",
    "print(\"Reaching maximum incorrect attempts! The correct number is\", answer)\n",
    "\n",
    "\n",
    "        "
   ]
  },
  {
   "cell_type": "markdown",
   "id": "7f77a527",
   "metadata": {},
   "source": [
    "5. Counter Contrast"
   ]
  },
  {
   "cell_type": "code",
   "execution_count": 22,
   "id": "270827ce",
   "metadata": {},
   "outputs": [
    {
     "name": "stdout",
     "output_type": "stream",
     "text": [
      "Please enter a positive integer\n",
      "10\n"
     ]
    }
   ],
   "source": [
    "n = int(input(\"Please enter a positive integer\\n\"))"
   ]
  },
  {
   "cell_type": "code",
   "execution_count": 27,
   "id": "b44c7430",
   "metadata": {},
   "outputs": [
    {
     "name": "stdout",
     "output_type": "stream",
     "text": [
      "1\n",
      "2\n",
      "3\n",
      "4\n",
      "5\n",
      "6\n",
      "7\n",
      "8\n",
      "9\n",
      "10\n"
     ]
    }
   ],
   "source": [
    "# for loop version\n",
    "\n",
    "for i in range(1, n + 1) :\n",
    "    print(i)"
   ]
  },
  {
   "cell_type": "code",
   "execution_count": 29,
   "id": "d7ab1de5",
   "metadata": {},
   "outputs": [
    {
     "name": "stdout",
     "output_type": "stream",
     "text": [
      "1\n",
      "2\n",
      "3\n",
      "4\n",
      "5\n",
      "6\n",
      "7\n",
      "8\n",
      "9\n",
      "10\n"
     ]
    }
   ],
   "source": [
    "# while loop version\n",
    "num = 1\n",
    "while num <= n :\n",
    "    print(num)\n",
    "    num = num + 1"
   ]
  },
  {
   "cell_type": "markdown",
   "id": "a1759170",
   "metadata": {},
   "source": [
    "6. Multiplication Table"
   ]
  },
  {
   "cell_type": "code",
   "execution_count": 30,
   "id": "cf239d34",
   "metadata": {},
   "outputs": [
    {
     "name": "stdout",
     "output_type": "stream",
     "text": [
      "Please enter a number \n",
      "8\n"
     ]
    }
   ],
   "source": [
    "n = int(input(\"Please enter a number \\n\"))"
   ]
  },
  {
   "cell_type": "code",
   "execution_count": 31,
   "id": "b33d32df",
   "metadata": {},
   "outputs": [
    {
     "name": "stdout",
     "output_type": "stream",
     "text": [
      "8 x 1 = 8 \n",
      "\n",
      "8 x 2 = 16 \n",
      "\n",
      "8 x 3 = 24 \n",
      "\n",
      "8 x 4 = 32 \n",
      "\n",
      "8 x 5 = 40 \n",
      "\n",
      "8 x 6 = 48 \n",
      "\n",
      "8 x 7 = 56 \n",
      "\n",
      "8 x 8 = 64 \n",
      "\n",
      "8 x 9 = 72 \n",
      "\n",
      "8 x 10 = 80 \n",
      "\n"
     ]
    }
   ],
   "source": [
    "# for loop version\n",
    "\n",
    "for i in range(1, 11) :\n",
    "    m = i * n\n",
    "    print(n, \"x\", i, \"=\", m,\"\\n\")\n",
    "    \n",
    "    "
   ]
  },
  {
   "cell_type": "code",
   "execution_count": 33,
   "id": "682acd25",
   "metadata": {},
   "outputs": [
    {
     "name": "stdout",
     "output_type": "stream",
     "text": [
      "8 x 1 = 8 \n",
      "\n",
      "8 x 2 = 16 \n",
      "\n",
      "8 x 3 = 24 \n",
      "\n",
      "8 x 4 = 32 \n",
      "\n",
      "8 x 5 = 40 \n",
      "\n",
      "8 x 6 = 48 \n",
      "\n",
      "8 x 7 = 56 \n",
      "\n",
      "8 x 8 = 64 \n",
      "\n",
      "8 x 9 = 72 \n",
      "\n",
      "8 x 10 = 80 \n",
      "\n"
     ]
    }
   ],
   "source": [
    "# while loop version\n",
    "i = 1\n",
    "while i <= 10 :\n",
    "    m = n * i\n",
    "    print(n, \"x\", i, \"=\", m,\"\\n\")\n",
    "    i = i + 1"
   ]
  },
  {
   "cell_type": "markdown",
   "id": "31ee1aee",
   "metadata": {},
   "source": [
    "A program for user enter a positive number"
   ]
  },
  {
   "cell_type": "code",
   "execution_count": 34,
   "id": "368d0185",
   "metadata": {},
   "outputs": [
    {
     "name": "stdout",
     "output_type": "stream",
     "text": [
      "Please enter a positive number \n",
      "-1\n",
      "Please enter a positive number \n",
      "-2\n",
      "Please enter a positive number \n",
      "0\n",
      "Please enter a positive number \n",
      "4\n"
     ]
    }
   ],
   "source": [
    "num = int(input(\"Please enter a positive number \\n\"))\n",
    "\n",
    "while not num > 0 :\n",
    "    num = int(input(\"Please enter a positive number \\n\"))"
   ]
  },
  {
   "cell_type": "code",
   "execution_count": null,
   "id": "d69021c5",
   "metadata": {},
   "outputs": [],
   "source": []
  }
 ],
 "metadata": {
  "kernelspec": {
   "display_name": "Python 3 (ipykernel)",
   "language": "python",
   "name": "python3"
  },
  "language_info": {
   "codemirror_mode": {
    "name": "ipython",
    "version": 3
   },
   "file_extension": ".py",
   "mimetype": "text/x-python",
   "name": "python",
   "nbconvert_exporter": "python",
   "pygments_lexer": "ipython3",
   "version": "3.11.4"
  }
 },
 "nbformat": 4,
 "nbformat_minor": 5
}
