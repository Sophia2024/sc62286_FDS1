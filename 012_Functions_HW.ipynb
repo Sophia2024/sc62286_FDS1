{
 "cells": [
  {
   "cell_type": "markdown",
   "id": "6540b52d",
   "metadata": {},
   "source": [
    "File name : 012_Functions_HW.ipynb"
   ]
  },
  {
   "cell_type": "markdown",
   "id": "28661d57",
   "metadata": {},
   "source": [
    "1. Function Design for Unit Conversions"
   ]
  },
  {
   "cell_type": "code",
   "execution_count": 2,
   "id": "3eddc6fa",
   "metadata": {},
   "outputs": [],
   "source": [
    "def miles_to_km(x) :\n",
    "    return x * 1.60934\n",
    "\n",
    "def km_to_miles(x) :\n",
    "    return x / 1.60934\n",
    "\n",
    "def f_to_c(x) :\n",
    "    return (x - 32) * 5 / 9\n",
    "    \n",
    "def c_to_f(x) :\n",
    "    return x * 9 / 5 + 32\n",
    "\n",
    "def kg_to_lb(x) :\n",
    "    return x * 2.2046 \n",
    "\n",
    "def lb_to_kg(x) :\n",
    "    return x / 2.2046 \n"
   ]
  },
  {
   "cell_type": "markdown",
   "id": "a8f9af7a",
   "metadata": {},
   "source": [
    "2. Module Creation"
   ]
  },
  {
   "cell_type": "code",
   "execution_count": 3,
   "id": "2417708c",
   "metadata": {},
   "outputs": [],
   "source": [
    "import unit_conversions as uc"
   ]
  },
  {
   "cell_type": "code",
   "execution_count": 4,
   "id": "2d6568d3",
   "metadata": {},
   "outputs": [
    {
     "data": {
      "text/plain": [
       "1.60934"
      ]
     },
     "execution_count": 4,
     "metadata": {},
     "output_type": "execute_result"
    }
   ],
   "source": [
    "uc.miles_to_km(1)"
   ]
  },
  {
   "cell_type": "code",
   "execution_count": 5,
   "id": "8555e199",
   "metadata": {},
   "outputs": [
    {
     "data": {
      "text/plain": [
       "0.6213727366498067"
      ]
     },
     "execution_count": 5,
     "metadata": {},
     "output_type": "execute_result"
    }
   ],
   "source": [
    "uc.km_to_miles(1)"
   ]
  },
  {
   "cell_type": "code",
   "execution_count": 6,
   "id": "95e56cc9",
   "metadata": {},
   "outputs": [
    {
     "data": {
      "text/plain": [
       "37.77777777777778"
      ]
     },
     "execution_count": 6,
     "metadata": {},
     "output_type": "execute_result"
    }
   ],
   "source": [
    "uc.f_to_c(100)"
   ]
  },
  {
   "cell_type": "code",
   "execution_count": 7,
   "id": "2e206a6a",
   "metadata": {},
   "outputs": [
    {
     "data": {
      "text/plain": [
       "78.8"
      ]
     },
     "execution_count": 7,
     "metadata": {},
     "output_type": "execute_result"
    }
   ],
   "source": [
    "uc.c_to_f(26)"
   ]
  },
  {
   "cell_type": "code",
   "execution_count": 8,
   "id": "b43e6c3c",
   "metadata": {},
   "outputs": [
    {
     "data": {
      "text/plain": [
       "2.2046"
      ]
     },
     "execution_count": 8,
     "metadata": {},
     "output_type": "execute_result"
    }
   ],
   "source": [
    "uc.kg_to_lb(1)"
   ]
  },
  {
   "cell_type": "code",
   "execution_count": 9,
   "id": "1c731910",
   "metadata": {},
   "outputs": [
    {
     "data": {
      "text/plain": [
       "0.9071940488070398"
      ]
     },
     "execution_count": 9,
     "metadata": {},
     "output_type": "execute_result"
    }
   ],
   "source": [
    "uc.lb_to_kg(2)"
   ]
  },
  {
   "cell_type": "markdown",
   "id": "4f10ae08",
   "metadata": {},
   "source": [
    "3. Namespaces"
   ]
  },
  {
   "cell_type": "code",
   "execution_count": 10,
   "id": "18edac42",
   "metadata": {},
   "outputs": [],
   "source": [
    "mylist = [1,2,3,4,5,6,7,8,9]"
   ]
  },
  {
   "cell_type": "code",
   "execution_count": 11,
   "id": "b600bf09",
   "metadata": {},
   "outputs": [
    {
     "data": {
      "text/plain": [
       "9"
      ]
     },
     "execution_count": 11,
     "metadata": {},
     "output_type": "execute_result"
    }
   ],
   "source": [
    "len(mylist)"
   ]
  },
  {
   "cell_type": "code",
   "execution_count": 12,
   "id": "ca1ed00d",
   "metadata": {},
   "outputs": [],
   "source": [
    "import mylen"
   ]
  },
  {
   "cell_type": "code",
   "execution_count": 14,
   "id": "6ff98ec5",
   "metadata": {},
   "outputs": [
    {
     "data": {
      "text/plain": [
       "42"
      ]
     },
     "execution_count": 14,
     "metadata": {},
     "output_type": "execute_result"
    }
   ],
   "source": [
    "mylen.len(mylist)"
   ]
  },
  {
   "cell_type": "code",
   "execution_count": 15,
   "id": "b5f45925",
   "metadata": {},
   "outputs": [
    {
     "data": {
      "text/plain": [
       "42"
      ]
     },
     "execution_count": 15,
     "metadata": {},
     "output_type": "execute_result"
    }
   ],
   "source": [
    "from mylen import len\n",
    "len(mylist)"
   ]
  },
  {
   "cell_type": "code",
   "execution_count": null,
   "id": "68b94a5d",
   "metadata": {},
   "outputs": [],
   "source": []
  }
 ],
 "metadata": {
  "kernelspec": {
   "display_name": "Python 3 (ipykernel)",
   "language": "python",
   "name": "python3"
  },
  "language_info": {
   "codemirror_mode": {
    "name": "ipython",
    "version": 3
   },
   "file_extension": ".py",
   "mimetype": "text/x-python",
   "name": "python",
   "nbconvert_exporter": "python",
   "pygments_lexer": "ipython3",
   "version": "3.11.4"
  }
 },
 "nbformat": 4,
 "nbformat_minor": 5
}
