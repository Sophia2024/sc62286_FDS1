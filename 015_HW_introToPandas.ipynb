{
 "cells": [
  {
   "cell_type": "markdown",
   "id": "716042ad",
   "metadata": {},
   "source": [
    "File Name: 015_HW_introToPandas.ipynb"
   ]
  },
  {
   "cell_type": "markdown",
   "id": "457a0b60",
   "metadata": {},
   "source": [
    "Series Exercises:"
   ]
  },
  {
   "cell_type": "markdown",
   "id": "8d129ac6",
   "metadata": {},
   "source": [
    "1. Create a Series:"
   ]
  },
  {
   "cell_type": "code",
   "execution_count": 3,
   "id": "a93b2111",
   "metadata": {},
   "outputs": [],
   "source": [
    "import pandas as pd\n",
    "\n",
    "fruits = pd.Series(['apple', 'banana', 'cherry', 'date'], index = ['a', 'b', 'c', 'd'])"
   ]
  },
  {
   "cell_type": "code",
   "execution_count": 4,
   "id": "83413457",
   "metadata": {},
   "outputs": [
    {
     "name": "stdout",
     "output_type": "stream",
     "text": [
      "a     apple\n",
      "b    banana\n",
      "c    cherry\n",
      "d      date\n",
      "dtype: object\n"
     ]
    }
   ],
   "source": [
    "print(fruits)"
   ]
  },
  {
   "cell_type": "code",
   "execution_count": 9,
   "id": "c1bbbdee",
   "metadata": {},
   "outputs": [
    {
     "name": "stdout",
     "output_type": "stream",
     "text": [
      "Index(['a', 'b', 'c', 'd'], dtype='object')\n"
     ]
    }
   ],
   "source": [
    "print(fruits.index)\n",
    "# to get the index : series.index\n",
    "# to get the value: series.values"
   ]
  },
  {
   "cell_type": "markdown",
   "id": "3ba762fb",
   "metadata": {},
   "source": [
    "2. Accessing Elements:"
   ]
  },
  {
   "cell_type": "code",
   "execution_count": 11,
   "id": "ef38a103",
   "metadata": {},
   "outputs": [
    {
     "name": "stdout",
     "output_type": "stream",
     "text": [
      "banana\n"
     ]
    }
   ],
   "source": [
    "print(fruits[\"b\"]) "
   ]
  },
  {
   "cell_type": "markdown",
   "id": "b6ccdd8d",
   "metadata": {},
   "source": [
    "3. Series Operations:"
   ]
  },
  {
   "cell_type": "code",
   "execution_count": 16,
   "id": "87dcf850",
   "metadata": {},
   "outputs": [],
   "source": [
    "square_series = pd.Series([i ** 2 for i in range(1,6)])\n",
    "square_series = square_series.add(10)"
   ]
  },
  {
   "cell_type": "code",
   "execution_count": 17,
   "id": "8ff605c9",
   "metadata": {},
   "outputs": [
    {
     "data": {
      "text/plain": [
       "0    11\n",
       "1    14\n",
       "2    19\n",
       "3    26\n",
       "4    35\n",
       "dtype: int64"
      ]
     },
     "execution_count": 17,
     "metadata": {},
     "output_type": "execute_result"
    }
   ],
   "source": [
    "square_series"
   ]
  },
  {
   "cell_type": "markdown",
   "id": "a4f3fcbc",
   "metadata": {},
   "source": [
    "DataFrame Exercises:"
   ]
  },
  {
   "cell_type": "markdown",
   "id": "4880a450",
   "metadata": {},
   "source": [
    "1. Create a DataFrame:"
   ]
  },
  {
   "cell_type": "code",
   "execution_count": 39,
   "id": "a5dd6293",
   "metadata": {},
   "outputs": [
    {
     "data": {
      "text/html": [
       "<div>\n",
       "<style scoped>\n",
       "    .dataframe tbody tr th:only-of-type {\n",
       "        vertical-align: middle;\n",
       "    }\n",
       "\n",
       "    .dataframe tbody tr th {\n",
       "        vertical-align: top;\n",
       "    }\n",
       "\n",
       "    .dataframe thead th {\n",
       "        text-align: right;\n",
       "    }\n",
       "</style>\n",
       "<table border=\"1\" class=\"dataframe\">\n",
       "  <thead>\n",
       "    <tr style=\"text-align: right;\">\n",
       "      <th></th>\n",
       "      <th>Name</th>\n",
       "      <th>Age</th>\n",
       "      <th>Grade</th>\n",
       "    </tr>\n",
       "  </thead>\n",
       "  <tbody>\n",
       "    <tr>\n",
       "      <th>0</th>\n",
       "      <td>Sophia</td>\n",
       "      <td>22</td>\n",
       "      <td>A</td>\n",
       "    </tr>\n",
       "    <tr>\n",
       "      <th>1</th>\n",
       "      <td>Sherry</td>\n",
       "      <td>21</td>\n",
       "      <td>A</td>\n",
       "    </tr>\n",
       "    <tr>\n",
       "      <th>2</th>\n",
       "      <td>Yilin</td>\n",
       "      <td>23</td>\n",
       "      <td>A</td>\n",
       "    </tr>\n",
       "  </tbody>\n",
       "</table>\n",
       "</div>"
      ],
      "text/plain": [
       "     Name  Age Grade\n",
       "0  Sophia   22     A\n",
       "1  Sherry   21     A\n",
       "2   Yilin   23     A"
      ]
     },
     "execution_count": 39,
     "metadata": {},
     "output_type": "execute_result"
    }
   ],
   "source": [
    "'''Question ???\n",
    "data = [\n",
    "    {\"Name\" : \"Sophia\", \"Age\" : 22, \"Grade\" : \"A\"},\n",
    "    {\"Name\" : \"Sherry\", \"Age\" : 21, \"Grade\" : \"A\"},\n",
    "    {\"Name\" : \"Yilin\", \"Age\" : 23, \"Grade\" : \"A\"}\n",
    "]\n",
    "\n",
    "data = [\n",
    "    {\"Name\": [\"Sophia\",\"Sherry\",\"Yilin\"]},\n",
    "    {\"Age\" : [22,21,23]},\n",
    "    {\"Grade\" : [\"A\",\"A\",\"A\"]}\n",
    "]\n",
    "'''\n",
    "# Method 1\n",
    "data = {\"Name\": [\"Sophia\",\"Sherry\",\"Yilin\"],\n",
    "        \"Age\" : [22,21,23],\n",
    "        \"Grade\" : [\"A\",\"A\",\"A\"]\n",
    "}\n",
    "\n",
    "students = pd.DataFrame(data)\n",
    "\n",
    "'''\n",
    "# Method 2\n",
    "data = [[\"Sophia\",22,\"A\"],\n",
    "       [\"Sherry\",21,\"A\"],\n",
    "       [\"Yilin\",23,\"A\"]]\n",
    "\n",
    "students = pd.DataFrame(data, columns = [\"Name\", \"Age\", \"Grade\"])\n",
    "'''\n",
    "#print(students)\n",
    "#print(type(data))\n",
    "students"
   ]
  },
  {
   "cell_type": "markdown",
   "id": "7f26d8b1",
   "metadata": {},
   "source": [
    "2. Accessing Data:"
   ]
  },
  {
   "cell_type": "code",
   "execution_count": 40,
   "id": "e3a745c6",
   "metadata": {},
   "outputs": [
    {
     "name": "stdout",
     "output_type": "stream",
     "text": [
      "0    Sophia\n",
      "1    Sherry\n",
      "2     Yilin\n",
      "Name: Name, dtype: object\n"
     ]
    }
   ],
   "source": [
    "print(students[\"Name\"])"
   ]
  },
  {
   "cell_type": "markdown",
   "id": "032c4bf9",
   "metadata": {},
   "source": [
    "3. DataFrame Operations:"
   ]
  },
  {
   "cell_type": "code",
   "execution_count": 41,
   "id": "2b71fd5e",
   "metadata": {},
   "outputs": [],
   "source": [
    "students[\"Graduated\"] = students[\"Grade\"].apply(lambda x: True if x == \"A\" else False)"
   ]
  },
  {
   "cell_type": "code",
   "execution_count": 42,
   "id": "494ba744",
   "metadata": {},
   "outputs": [
    {
     "name": "stdout",
     "output_type": "stream",
     "text": [
      "     Name  Age Grade  Graduated\n",
      "0  Sophia   22     A       True\n",
      "1  Sherry   21     A       True\n",
      "2   Yilin   23     A       True\n"
     ]
    }
   ],
   "source": [
    "print(students)"
   ]
  },
  {
   "cell_type": "code",
   "execution_count": 43,
   "id": "2e46fb64",
   "metadata": {},
   "outputs": [
    {
     "data": {
      "text/html": [
       "<div>\n",
       "<style scoped>\n",
       "    .dataframe tbody tr th:only-of-type {\n",
       "        vertical-align: middle;\n",
       "    }\n",
       "\n",
       "    .dataframe tbody tr th {\n",
       "        vertical-align: top;\n",
       "    }\n",
       "\n",
       "    .dataframe thead th {\n",
       "        text-align: right;\n",
       "    }\n",
       "</style>\n",
       "<table border=\"1\" class=\"dataframe\">\n",
       "  <thead>\n",
       "    <tr style=\"text-align: right;\">\n",
       "      <th></th>\n",
       "      <th>Name</th>\n",
       "      <th>Age</th>\n",
       "      <th>Grade</th>\n",
       "      <th>Graduated</th>\n",
       "    </tr>\n",
       "  </thead>\n",
       "  <tbody>\n",
       "    <tr>\n",
       "      <th>0</th>\n",
       "      <td>Sophia</td>\n",
       "      <td>22</td>\n",
       "      <td>A</td>\n",
       "      <td>True</td>\n",
       "    </tr>\n",
       "    <tr>\n",
       "      <th>1</th>\n",
       "      <td>Sherry</td>\n",
       "      <td>21</td>\n",
       "      <td>A</td>\n",
       "      <td>True</td>\n",
       "    </tr>\n",
       "    <tr>\n",
       "      <th>2</th>\n",
       "      <td>Yilin</td>\n",
       "      <td>23</td>\n",
       "      <td>A</td>\n",
       "      <td>True</td>\n",
       "    </tr>\n",
       "  </tbody>\n",
       "</table>\n",
       "</div>"
      ],
      "text/plain": [
       "     Name  Age Grade  Graduated\n",
       "0  Sophia   22     A       True\n",
       "1  Sherry   21     A       True\n",
       "2   Yilin   23     A       True"
      ]
     },
     "execution_count": 43,
     "metadata": {},
     "output_type": "execute_result"
    }
   ],
   "source": [
    "students"
   ]
  },
  {
   "cell_type": "markdown",
   "id": "41236b8b",
   "metadata": {},
   "source": [
    "4. Maths:"
   ]
  },
  {
   "cell_type": "code",
   "execution_count": 44,
   "id": "73c00c7a",
   "metadata": {},
   "outputs": [
    {
     "data": {
      "text/plain": [
       "22.0"
      ]
     },
     "execution_count": 44,
     "metadata": {},
     "output_type": "execute_result"
    }
   ],
   "source": [
    "students[\"Age\"].mean()"
   ]
  },
  {
   "cell_type": "markdown",
   "id": "4eea69b7",
   "metadata": {},
   "source": [
    "5. Sorting:"
   ]
  },
  {
   "cell_type": "code",
   "execution_count": 47,
   "id": "ad36fbfe",
   "metadata": {},
   "outputs": [
    {
     "data": {
      "text/html": [
       "<div>\n",
       "<style scoped>\n",
       "    .dataframe tbody tr th:only-of-type {\n",
       "        vertical-align: middle;\n",
       "    }\n",
       "\n",
       "    .dataframe tbody tr th {\n",
       "        vertical-align: top;\n",
       "    }\n",
       "\n",
       "    .dataframe thead th {\n",
       "        text-align: right;\n",
       "    }\n",
       "</style>\n",
       "<table border=\"1\" class=\"dataframe\">\n",
       "  <thead>\n",
       "    <tr style=\"text-align: right;\">\n",
       "      <th></th>\n",
       "      <th>Name</th>\n",
       "      <th>Age</th>\n",
       "      <th>Grade</th>\n",
       "      <th>Graduated</th>\n",
       "    </tr>\n",
       "  </thead>\n",
       "  <tbody>\n",
       "    <tr>\n",
       "      <th>2</th>\n",
       "      <td>Yilin</td>\n",
       "      <td>23</td>\n",
       "      <td>A</td>\n",
       "      <td>True</td>\n",
       "    </tr>\n",
       "    <tr>\n",
       "      <th>0</th>\n",
       "      <td>Sophia</td>\n",
       "      <td>22</td>\n",
       "      <td>A</td>\n",
       "      <td>True</td>\n",
       "    </tr>\n",
       "    <tr>\n",
       "      <th>1</th>\n",
       "      <td>Sherry</td>\n",
       "      <td>21</td>\n",
       "      <td>A</td>\n",
       "      <td>True</td>\n",
       "    </tr>\n",
       "  </tbody>\n",
       "</table>\n",
       "</div>"
      ],
      "text/plain": [
       "     Name  Age Grade  Graduated\n",
       "2   Yilin   23     A       True\n",
       "0  Sophia   22     A       True\n",
       "1  Sherry   21     A       True"
      ]
     },
     "execution_count": 47,
     "metadata": {},
     "output_type": "execute_result"
    }
   ],
   "source": [
    "students.sort_values(\"Age\", ascending = False)"
   ]
  },
  {
   "cell_type": "markdown",
   "id": "facfb8a7",
   "metadata": {},
   "source": [
    "6. Tidy Data:"
   ]
  },
  {
   "cell_type": "code",
   "execution_count": 56,
   "id": "c09b2718",
   "metadata": {
    "scrolled": true
   },
   "outputs": [
    {
     "data": {
      "text/html": [
       "<div>\n",
       "<style scoped>\n",
       "    .dataframe tbody tr th:only-of-type {\n",
       "        vertical-align: middle;\n",
       "    }\n",
       "\n",
       "    .dataframe tbody tr th {\n",
       "        vertical-align: top;\n",
       "    }\n",
       "\n",
       "    .dataframe thead th {\n",
       "        text-align: right;\n",
       "    }\n",
       "</style>\n",
       "<table border=\"1\" class=\"dataframe\">\n",
       "  <thead>\n",
       "    <tr style=\"text-align: right;\">\n",
       "      <th></th>\n",
       "      <th>Happiness</th>\n",
       "      <th>Language</th>\n",
       "      <th>Energy</th>\n",
       "      <th>Memory</th>\n",
       "    </tr>\n",
       "  </thead>\n",
       "  <tbody>\n",
       "    <tr>\n",
       "      <th>subject1</th>\n",
       "      <td>10</td>\n",
       "      <td>2</td>\n",
       "      <td>5</td>\n",
       "      <td>3</td>\n",
       "    </tr>\n",
       "    <tr>\n",
       "      <th>subject2</th>\n",
       "      <td>15</td>\n",
       "      <td>4</td>\n",
       "      <td>9</td>\n",
       "      <td>6</td>\n",
       "    </tr>\n",
       "    <tr>\n",
       "      <th>subject3</th>\n",
       "      <td>18</td>\n",
       "      <td>7</td>\n",
       "      <td>12</td>\n",
       "      <td>9</td>\n",
       "    </tr>\n",
       "    <tr>\n",
       "      <th>subject4</th>\n",
       "      <td>13</td>\n",
       "      <td>2</td>\n",
       "      <td>7</td>\n",
       "      <td>4</td>\n",
       "    </tr>\n",
       "  </tbody>\n",
       "</table>\n",
       "</div>"
      ],
      "text/plain": [
       "          Happiness  Language  Energy  Memory\n",
       "subject1         10         2       5       3\n",
       "subject2         15         4       9       6\n",
       "subject3         18         7      12       9\n",
       "subject4         13         2       7       4"
      ]
     },
     "execution_count": 56,
     "metadata": {},
     "output_type": "execute_result"
    }
   ],
   "source": [
    "data = [[10,2,5,3],\n",
    "       [15,4,9,6],\n",
    "       [18,7,12,9],\n",
    "       [13,2,7,4]]\n",
    "\n",
    "col_name = [\"Happiness\", \"Language\", \"Energy\", \"Memory\"]\n",
    "row_name = [\"subject1\", \"subject2\", \"subject3\", \"subject4\"]\n",
    "cognitive_heatlh_df = pd.DataFrame(data, columns = col_name, index = row_name)\n",
    "cognitive_heatlh_df\n"
   ]
  },
  {
   "cell_type": "markdown",
   "id": "7f7037c6",
   "metadata": {},
   "source": [
    "Some Notes for :\n",
    "How to check arguments in function quickly in JupyterNotebook\n",
    "\n",
    "Method 1: pd.DataFrame? \n",
    "\n",
    "Method 2 : help(pd.DataFrame)"
   ]
  },
  {
   "cell_type": "code",
   "execution_count": 58,
   "id": "39136d6c",
   "metadata": {},
   "outputs": [
    {
     "data": {
      "text/plain": [
       "Happiness    14.00\n",
       "Language      3.75\n",
       "Energy        8.25\n",
       "Memory        5.50\n",
       "dtype: float64"
      ]
     },
     "execution_count": 58,
     "metadata": {},
     "output_type": "execute_result"
    }
   ],
   "source": [
    "\n",
    "cognitive_heatlh_df.mean()"
   ]
  },
  {
   "cell_type": "code",
   "execution_count": 60,
   "id": "cc699352",
   "metadata": {},
   "outputs": [
    {
     "data": {
      "text/plain": [
       "14.0"
      ]
     },
     "execution_count": 60,
     "metadata": {},
     "output_type": "execute_result"
    }
   ],
   "source": [
    "cognitive_heatlh_df[\"Happiness\"].mean()"
   ]
  },
  {
   "cell_type": "code",
   "execution_count": 61,
   "id": "ab96db15",
   "metadata": {},
   "outputs": [
    {
     "data": {
      "text/plain": [
       "3.366501646120693"
      ]
     },
     "execution_count": 61,
     "metadata": {},
     "output_type": "execute_result"
    }
   ],
   "source": [
    "cognitive_heatlh_df[\"Happiness\"].std()"
   ]
  },
  {
   "cell_type": "code",
   "execution_count": null,
   "id": "f28801b4",
   "metadata": {},
   "outputs": [],
   "source": []
  }
 ],
 "metadata": {
  "kernelspec": {
   "display_name": "Python 3 (ipykernel)",
   "language": "python",
   "name": "python3"
  },
  "language_info": {
   "codemirror_mode": {
    "name": "ipython",
    "version": 3
   },
   "file_extension": ".py",
   "mimetype": "text/x-python",
   "name": "python",
   "nbconvert_exporter": "python",
   "pygments_lexer": "ipython3",
   "version": "3.11.4"
  }
 },
 "nbformat": 4,
 "nbformat_minor": 5
}
